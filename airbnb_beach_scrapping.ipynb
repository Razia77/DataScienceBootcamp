{
 "cells": [
  {
   "cell_type": "code",
   "execution_count": null,
   "id": "88f28d43",
   "metadata": {},
   "outputs": [],
   "source": [
    "from selenium import webdriver\n",
    "from selenium.webdriver.common.keys import Keys\n",
    "from selenium.webdriver.common.by import By\n",
    "from selenium.webdriver.chrome.service import Service\n",
    "from selenium.webdriver.support.ui import WebDriverWait\n",
    "from selenium.webdriver.support import expected_conditions as EC\n",
    "from IPython.display import display,clear_output\n",
    "\n",
    "import requests\n",
    "import time\n",
    "from requests_html import HTMLSession\n",
    "from PIL import Image\n",
    "from io import BytesIO"
   ]
  },
  {
   "cell_type": "code",
   "execution_count": null,
   "id": "88dc740d",
   "metadata": {},
   "outputs": [],
   "source": [
    "#creating a new driver\n",
    "s=Service('E:\\datascienceBootcamp/chromedriver')\n",
    "driver=webdriver.Chrome(service=s)"
   ]
  },
  {
   "cell_type": "code",
   "execution_count": null,
   "id": "2b73aaf5",
   "metadata": {},
   "outputs": [],
   "source": [
    "#fetching airbnb beach link\n",
    "driver.get(\"https://www.airbnb.com/?tab_id=home_tab&refinement_paths%5B%5D=%2Fhomes&search_mode=flex_destinations_search&flexible_trip_lengths%5B%5D=o"
   ]
  },
  {
   "cell_type": "code",
   "execution_count": null,
   "id": "640b86f0",
   "metadata": {},
   "outputs": [],
   "source": [
    "def scroll_window():\n",
    "#     total_height = int(driver.execute_script(\"return document.body.scrollHeight\"))\n",
    "    total_height = 33000\n",
    "\n",
    "    for i in range(1, total_height, 700):\n",
    "        driver.execute_script(\"window.scrollTo(0, {});\".format(i))\n",
    "        time.sleep(3)"
   ]
  },
  {
   "cell_type": "code",
   "execution_count": null,
   "id": "3b1db595",
   "metadata": {},
   "outputs": [],
   "source": [
    "#collect all the destination links and store them in a file\n",
    "scroll_window()\n",
    "time.sleep(3)\n",
    "destinations_link=driver.find_elements(by=By.CLASS_NAME,value=\"ln2bl2p\")\n",
    "print(len(destinations_link))\n",
    "with open(\"destinations.txt\",\"w\") as f:\n",
    "    for i in destinations_link:\n",
    "        f.write(i.get_attribute('href'))\n",
    "        f.write(\"\\n\")"
   ]
  },
  {
   "cell_type": "markdown",
   "id": "cf79ce00",
   "metadata": {},
   "source": [
    "functions for individual destination link"
   ]
  },
  {
   "cell_type": "code",
   "execution_count": null,
   "id": "bd9a4c59",
   "metadata": {},
   "outputs": [],
   "source": [
    "#function for destination title\n",
    "def titleHeading(driver):\n",
    "    try:\n",
    "        title=driver.find_element(by=By.CLASS_NAME,value=\"_fecoyn4\").text\n",
    "        print(\"title\",title)\n",
    "        return title\n",
    "    except:\n",
    "        print(\"destination not found , may be link is broken\")\n",
    "        return None"
   ]
  },
  {
   "cell_type": "code",
   "execution_count": null,
   "id": "7824fad2",
   "metadata": {},
   "outputs": [],
   "source": [
    "#function for destination rating\n",
    "def placeRating(driver):\n",
    "    try:\n",
    "        rating=driver.find_element(by=By.CLASS_NAME,value=\"_17p6nbba\").text\n",
    "        print(\"rating\",rating)\n",
    "        return rating\n",
    "    except:\n",
    "        print(\"destination not found , may be link is broken\")\n",
    "        return None"
   ]
  },
  {
   "cell_type": "code",
   "execution_count": null,
   "id": "70ba5db1",
   "metadata": {},
   "outputs": [],
   "source": [
    "#function for destination total reviews\n",
    "def placeTotalReviw(driver):\n",
    "    try:\n",
    "        reviewNumber=driver.find_element(by=By.CLASS_NAME,value=\"_11eqlma4\").text\n",
    "        print(\"total_reviews\",reviewNumber)\n",
    "        return reviewNumber\n",
    "    except:\n",
    "        print(\"destination not found , may be link is broken\")\n",
    "        return None"
   ]
  },
  {
   "cell_type": "code",
   "execution_count": null,
   "id": "fef9acc3",
   "metadata": {},
   "outputs": [],
   "source": [
    "#function for destination location\n",
    "def placeLocation(driver):\n",
    "    try:\n",
    "        location=driver.find_element(by=By.CLASS_NAME,value=\"_9xiloll\").text\n",
    "        print(\"Location\",location)\n",
    "        return location\n",
    "    except:\n",
    "        print(\"destination not found , may be link is broken\")\n",
    "        return None"
   ]
  },
  {
   "cell_type": "code",
   "execution_count": null,
   "id": "7a90aba0",
   "metadata": {},
   "outputs": [],
   "source": [
    "#function for destination price\n",
    "def placeRent(driver):\n",
    "    try:\n",
    "        time.sleep(3)\n",
    "        rent=driver.find_element(by=By.XPATH,value=\"//*/div/div[1]/div[3]/div/div[2]/div/div/div[1]/div/div/div/div/div/div/div[1]/div[1]/div[1]/div/span/div/span[1]\").text\n",
    "        print(\"Place_rent\",rent)\n",
    "        return rent\n",
    "    except:\n",
    "        print(\"destination not found , may be link is broken\")\n",
    "        return None"
   ]
  },
  {
   "cell_type": "code",
   "execution_count": null,
   "id": "2024e32c",
   "metadata": {},
   "outputs": [],
   "source": [
    "#function for destination description\n",
    "def placeDescription(driver):\n",
    "    try:\n",
    "        if(show_more_click(driver,\"desc\")==True):\n",
    "            time.sleep(3)\n",
    "            description =WebDriverWait(driver, 20).until(EC.visibility_of_element_located((By.XPATH, \"/html/body/div[11]/section/div/div/div[2]/div/div[2]/div/div/div/div/div/div/div/div/section\"))).text\n",
    "            driver.back()\n",
    "        else:\n",
    "            description=driver.find_element(by=By.XPATH,value=\"//*/div/div[1]/div[3]/div/div[1]/div/div[4]/div/div[2]/div/span/span\").text        \n",
    "#         driver.refresh()\n",
    "        print(\"Place_description\",description)\n",
    "        return description\n",
    "    except:\n",
    "        print(\"destination not found , may be link is broken\")\n",
    "        return None"
   ]
  },
  {
   "cell_type": "code",
   "execution_count": null,
   "id": "c8421617",
   "metadata": {},
   "outputs": [],
   "source": [
    "#function for destination offers\n",
    "def placeOffers(driver):\n",
    "    try:\n",
    "        show_more_click(driver,\"feature\")\n",
    "        time.sleep(5)\n",
    "        \n",
    "        offers =WebDriverWait(driver, 20).until(EC.visibility_of_element_located((By.XPATH, \"/html/body/div[11]/section/div/div/div[2]/div/div[3]/div/div/div/div/section\"))).text\n",
    "        driver.back()\n",
    "#         driver.refresh()\n",
    "        print(\"Place_offers\",offers)\n",
    "        return offers\n",
    "    except:\n",
    "        print(\"destination not found , may be link is broken\")\n",
    "        return None"
   ]
  },
  {
   "cell_type": "code",
   "execution_count": null,
   "id": "136b6127",
   "metadata": {},
   "outputs": [],
   "source": [
    "# function for show more click\n",
    "def show_more_click(driver,specify):\n",
    "#     print(type(specify))\n",
    "#     print(specify==\"desc\")\n",
    "    try:\n",
    "        if specify==\"img\":\n",
    "            driver.find_element(by=By.CLASS_NAME,value=\"_uhxsfg\").click()\n",
    "        elif specify==\"desc\":\n",
    "            driver.find_element(by=By.XPATH,value=\"//*/div/div[1]/div[3]/div/div[1]/div/div[5]/div/div/div[2]/button/span/span[1]\").click()\n",
    "        elif specify==\"feature\":\n",
    "            driver.find_element(by=By.CLASS_NAME,value=\"b65jmrv\").click()\n",
    "        return True\n",
    "    except:\n",
    "        print(\"no show more button\")\n",
    "        return False"
   ]
  },
  {
   "cell_type": "code",
   "execution_count": null,
   "id": "443f1676",
   "metadata": {},
   "outputs": [],
   "source": [
    "#function for destination reviews\n",
    "def placeReviews(driver):\n",
    "    try:\n",
    "        reviews=driver.find_elements(by=By.CLASS_NAME,value=\"r1rl3yjt\")\n",
    "#         print(len(reviewss))\n",
    "        review_text=[\" \".join(i.text.split(\"\\n\")) for i in reviews]\n",
    "        Reviews=\" \".join(review_text)\n",
    "        print(\"reviews\",Reviews)\n",
    "        return Reviews\n",
    "    except:\n",
    "        print(\"destination not found , may be link is broken\")\n",
    "        return None"
   ]
  },
  {
   "cell_type": "code",
   "execution_count": null,
   "id": "8908c2c5",
   "metadata": {},
   "outputs": [],
   "source": [
    "#open driver\n",
    "def openDriver():\n",
    "    op=webdriver.ChromeOptions()\n",
    "    op.add_argument(\"headless\")\n",
    "    s=Service('E:\\datascienceBootcamp/chromedriver')\n",
    "    driver=webdriver.Chrome(service=s,options=op)\n",
    "    return driver"
   ]
  },
  {
   "cell_type": "code",
   "execution_count": null,
   "id": "68efc5ab",
   "metadata": {},
   "outputs": [],
   "source": [
    "#function for homepage img scrapping\n",
    "def pics_scrap(driver,category):\n",
    "    time.sleep(3)\n",
    "    images=driver.find_element(by=By.CLASS_NAME,value=\"_88xxct\")\n",
    "    time.sleep(2)\n",
    "    img_names=[]\n",
    "    imageUrls=[]\n",
    "    title=attachTitle(driver)\n",
    "    counter=0\n",
    "    for img in images.find_elements(by=By.TAG_NAME,value='img')[:5]:\n",
    "        img_urls = img.get_attribute('src')\n",
    "        print(img_urls)\n",
    "        imageUrls.append(img_urls)\n",
    "        #     removing point (.) as this point causing a problem in saving the picture\n",
    "        removingPoint=(\"/\".join(img_urls.split(\"/\")[-1:])).split('.')[:-1]\n",
    "        img_urls_firstname = \" \".join(removingPoint[0].split(\" \"))\n",
    "        img_urls_rename= f\"{title}/\"+img_urls_firstname\n",
    "        #             print(img_urls_rename)\n",
    "        img_name = \"@\".join(img_urls_rename.split('/'))\n",
    "        img_names.append(img_name)\n",
    "#         if img_urls.mode != 'RGB':\n",
    "#             img_urls = img_urls.convert('RGB')\n",
    "        r = requests.get(img_urls)\n",
    "        i = Image.open(BytesIO(r.content))\n",
    "        if i.mode != 'RGB':\n",
    "            i = i.convert('RGB')\n",
    "        i.save(f\"img/{category}/{img_name}.jpg\")\n",
    "        counter+=1\n",
    "        print(img_name)\n",
    "#     print(img_names)\n",
    "    return img_names"
   ]
  },
  {
   "cell_type": "code",
   "execution_count": null,
   "id": "11960983",
   "metadata": {},
   "outputs": [],
   "source": [
    "#getting the titles for attaching with the picture name\n",
    "def attachTitle(driver):\n",
    "    try:\n",
    "        Title=driver.find_element(by=By.XPATH,value=\"//*/div/div[1]/div[6]/div/div/div/div[2]/div/section/div[1]/div[2]/h2\").text\n",
    "        Title=\"_\".join(Title.split(\" \"))\n",
    "        return Title\n",
    "    except:\n",
    "        print(\"nothing found\")\n",
    "        return None"
   ]
  },
  {
   "cell_type": "code",
   "execution_count": null,
   "id": "c6ef832c",
   "metadata": {},
   "outputs": [],
   "source": [
    "#function for single product scrapping\n",
    "def product_scrap(driver,url,category):\n",
    "    driver.get(url)\n",
    "    time.sleep(5)\n",
    "    #single page data scrapping\n",
    "    title=titleHeading(driver)\n",
    "    #place rating\n",
    "    rating=placeRating(driver)\n",
    "    #place total review\n",
    "    total_review=placeTotalReviw(driver)\n",
    "    #place rent\n",
    "    rent=placeRent(driver)\n",
    "#     place location\n",
    "    location=placeLocation(driver)\n",
    "    #place descriptio\n",
    "    description=placeDescription(driver)\n",
    "    #place extra feature\n",
    "    time.sleep(2)\n",
    "    extra_offers=placeOffers(driver)\n",
    "    #all reviews of the place\n",
    "    time.sleep(2)\n",
    "    reviews=placeReviews(driver)\n",
    "    time.sleep(2)\n",
    "    #all images\n",
    "    imageName=pics_scrap(driver,category)\n",
    "    time.sleep(2)\n",
    "    return title,rating,total_review,rent,location,description,extra_offers,reviews,imageName"
   ]
  },
  {
   "cell_type": "code",
   "execution_count": null,
   "id": "92ee4d63",
   "metadata": {},
   "outputs": [],
   "source": [
    "#all link scrapping\n",
    "category=\"destination_images\"\n",
    "with open(\"destinations.txt\",\"r\") as f:\n",
    "    single_url=f.readlines()\n",
    "    titles,ratings,total_reviews,rents,locations,descriptions,Extra_offers,Reviews,imageNames=[],[],[],[],[],[],[],[],[]\n",
    "    airbnb_scrap_partwise(0,98,titles,ratings,total_reviews,rents,locations,descriptions,Extra_offers,Reviews,imageNames)\n",
    "    time.sleep(30)\n",
    "    airbnb_scrap_partwise(99,180,titles,ratings,total_reviews,rents,locations,descriptions,Extra_offers,Reviews,imageNames)\n",
    "    time.sleep(30)\n",
    "    airbnb_scrap_partwise(181,224,titles,ratings,total_reviews,rents,locations,descriptions,Extra_offers,Reviews,imageNames)"
   ]
  },
  {
   "cell_type": "code",
   "execution_count": null,
   "id": "cf35ec83",
   "metadata": {},
   "outputs": [],
   "source": [
    "#function for scrapping a limited number of links\n",
    "def airbnb_scrap_partwise(num1,num2,titles,ratings,total_reviews,rents,locations,descriptions,Extra_offers,Reviews,imageNames):\n",
    "    cnt=1\n",
    "    for s in single_url[num1:num2]:\n",
    "        print(cnt,s)\n",
    "        driver=openDriver()\n",
    "        title,rating,total_review,rent,location,description,extra_offers,reviews,imageName=product_scrap(driver,s,category)\n",
    "        if title:\n",
    "            titles.append(title)\n",
    "            ratings.append(rating)\n",
    "            total_reviews.append(total_review)\n",
    "            rents.append(rent)\n",
    "            locations.append(location)\n",
    "            descriptions.append(description)\n",
    "            Extra_offers.append(extra_offers)\n",
    "            Reviews.append(reviews)\n",
    "            imageNames.append(imageName)\n",
    "            \n",
    "            cnt+=1\n",
    "            print(\"=============================================\")\n",
    "            clear_output(wait=True)"
   ]
  },
  {
   "cell_type": "code",
   "execution_count": null,
   "id": "793f634a",
   "metadata": {},
   "outputs": [],
   "source": [
    "#saving the scrapping infos\n",
    "with open(\"Airbnb_Scrab.txt\",\"w\",encoding=\"utf-8\") as f:\n",
    "    f.write(\"No ,Title ,Ratings ,Total_reviews ,Rents ,Location ,Description ,Extra_offers ,Reviews ,Images\")\n",
    "    f.write(\"\\n\\n\")\n",
    "    for i,t,r,tr,ren,l,d,e,rev,im in zip(range(1,len(titles)+1),titles,ratings,total_reviews,rents,locations,descriptions,Extra_offers,Reviews,imageNames):\n",
    "        f.write(f\"{i} ,{t} ,{r} ,{tr} ,{ren} ,{l} ,{d} ,{e} ,{rev} ,{im} \")\n",
    "        f.write(\"\\n\\n\")"
   ]
  }
 ],
 "metadata": {
  "kernelspec": {
   "display_name": "Python 3",
   "language": "python",
   "name": "python3"
  },
  "language_info": {
   "codemirror_mode": {
    "name": "ipython",
    "version": 3
   },
   "file_extension": ".py",
   "mimetype": "text/x-python",
   "name": "python",
   "nbconvert_exporter": "python",
   "pygments_lexer": "ipython3",
   "version": "3.8.8"
  }
 },
 "nbformat": 4,
 "nbformat_minor": 5
}
