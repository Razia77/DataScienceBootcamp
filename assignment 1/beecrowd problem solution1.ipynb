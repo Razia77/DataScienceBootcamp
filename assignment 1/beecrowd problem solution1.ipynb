{
 "cells": [
  {
   "cell_type": "markdown",
   "id": "45562ffe",
   "metadata": {},
   "source": [
    "##1000 Hello World!\n"
   ]
  },
  {
   "cell_type": "code",
   "execution_count": 3,
   "id": "7e6cb18f",
   "metadata": {},
   "outputs": [
    {
     "name": "stdout",
     "output_type": "stream",
     "text": [
      "Hello World!\n"
     ]
    }
   ],
   "source": [
    "print(\"Hello World!\")"
   ]
  },
  {
   "cell_type": "markdown",
   "id": "03d91610",
   "metadata": {},
   "source": [
    "##1001 Extremely Basic"
   ]
  },
  {
   "cell_type": "code",
   "execution_count": 5,
   "id": "58a25da1",
   "metadata": {},
   "outputs": [
    {
     "name": "stdout",
     "output_type": "stream",
     "text": [
      "10\n",
      "9\n",
      "X = 19\n"
     ]
    }
   ],
   "source": [
    "a=int(input())\n",
    "b=int(input())\n",
    "print(\"X =\",a+b)"
   ]
  },
  {
   "cell_type": "markdown",
   "id": "103ad111",
   "metadata": {},
   "source": [
    "##1002 Area of a Circle"
   ]
  },
  {
   "cell_type": "code",
   "execution_count": 6,
   "id": "4443522d",
   "metadata": {},
   "outputs": [
    {
     "name": "stdout",
     "output_type": "stream",
     "text": [
      "2.00\n",
      "A=12.5664\n"
     ]
    }
   ],
   "source": [
    "raio = float(input())\n",
    "area = (raio * raio) * 3.14159\n",
    "print(\"A=%0.4f\" %area)"
   ]
  },
  {
   "cell_type": "markdown",
   "id": "b8505677",
   "metadata": {},
   "source": [
    "##1003 Simple Sum"
   ]
  },
  {
   "cell_type": "code",
   "execution_count": 7,
   "id": "8f1a30b9",
   "metadata": {},
   "outputs": [
    {
     "name": "stdout",
     "output_type": "stream",
     "text": [
      "30\n",
      "10\n",
      "SOMA = 40\n"
     ]
    }
   ],
   "source": [
    "a=int(input())\n",
    "b=int(input())\n",
    "print(\"SOMA =\",a+b)"
   ]
  },
  {
   "cell_type": "markdown",
   "id": "dedce2e7",
   "metadata": {},
   "source": [
    "##1004 Simple Product"
   ]
  },
  {
   "cell_type": "code",
   "execution_count": 1,
   "id": "452ddfa2",
   "metadata": {},
   "outputs": [
    {
     "name": "stdout",
     "output_type": "stream",
     "text": [
      "3\n",
      "9\n",
      "PROD = 27\n"
     ]
    }
   ],
   "source": [
    "a=float(input())\n",
    "b=int(input())\n",
    "print(\"PROD =\",int(a*b))"
   ]
  },
  {
   "cell_type": "markdown",
   "id": "08798e41",
   "metadata": {},
   "source": [
    "##1005 Average 1"
   ]
  },
  {
   "cell_type": "code",
   "execution_count": 2,
   "id": "81e9523d",
   "metadata": {},
   "outputs": [
    {
     "name": "stdout",
     "output_type": "stream",
     "text": [
      "5.0\n",
      "7.1\n",
      "MEDIA = 6.43182\n"
     ]
    }
   ],
   "source": [
    "a=float(input())\n",
    "b=float(input())\n",
    "average = (a *3.5 + b*7.5)/(3.5+7.5)\n",
    "print(\"MEDIA = %0.5f\" %average)"
   ]
  },
  {
   "cell_type": "markdown",
   "id": "cf38f9ce",
   "metadata": {},
   "source": [
    "##1006 \tAverage 2"
   ]
  },
  {
   "cell_type": "code",
   "execution_count": 3,
   "id": "58be5b67",
   "metadata": {},
   "outputs": [
    {
     "name": "stdout",
     "output_type": "stream",
     "text": [
      "5.0\n",
      "6.0\n",
      "7.0\n",
      "MEDIA = 6.3\n"
     ]
    }
   ],
   "source": [
    "a=float(input())\n",
    "b=float(input())\n",
    "c = float(input())\n",
    "average = (a *2 + b*3 +c*5)/(2+3+5)\n",
    "print(\"MEDIA = %0.1f\" %average)"
   ]
  },
  {
   "cell_type": "markdown",
   "id": "24a62a89",
   "metadata": {},
   "source": [
    "##1007 Difference"
   ]
  },
  {
   "cell_type": "code",
   "execution_count": 4,
   "id": "983f825d",
   "metadata": {},
   "outputs": [
    {
     "name": "stdout",
     "output_type": "stream",
     "text": [
      "5\n",
      "6\n",
      "7\n",
      "8\n",
      "DIFERENCA = -26\n"
     ]
    }
   ],
   "source": [
    "a=int(input())\n",
    "b=int(input())\n",
    "c=int(input())\n",
    "d=int(input())\n",
    "sum = ((a*b)-(c*d))\n",
    "print(\"DIFERENCA =\",sum)"
   ]
  },
  {
   "cell_type": "markdown",
   "id": "9b1b14a5",
   "metadata": {},
   "source": [
    "##1008 \tSalary"
   ]
  },
  {
   "cell_type": "code",
   "execution_count": 5,
   "id": "68e69422",
   "metadata": {},
   "outputs": [
    {
     "name": "stdout",
     "output_type": "stream",
     "text": [
      "25\n",
      "100\n",
      "5.50\n",
      "NUMBER = 25\n",
      "SALARY = U$ 550.00\n"
     ]
    }
   ],
   "source": [
    "a= int(input())\n",
    "b= int(input())\n",
    "c=float(input())\n",
    "print(\"NUMBER =\",a)\n",
    "mult=b*c\n",
    "print(\"SALARY = U$ %0.2f\"%mult)"
   ]
  },
  {
   "cell_type": "markdown",
   "id": "25321150",
   "metadata": {},
   "source": [
    "##1009 Salary with Bonus"
   ]
  },
  {
   "cell_type": "code",
   "execution_count": 7,
   "id": "807cd6f7",
   "metadata": {},
   "outputs": [
    {
     "name": "stdout",
     "output_type": "stream",
     "text": [
      "JOAO\n",
      "500.00 \n",
      "1230.30\n",
      "TOTAL = R$ 684.54\n"
     ]
    }
   ],
   "source": [
    "name = input()\n",
    "a = float(input())\n",
    "b = float(input())\n",
    "total = a+(b*15)/100\n",
    "print(\"TOTAL = R$ %0.2f\"%total)"
   ]
  },
  {
   "cell_type": "markdown",
   "id": "b92cc6e3",
   "metadata": {},
   "source": [
    "##1010 Simple Calculate"
   ]
  },
  {
   "cell_type": "code",
   "execution_count": 8,
   "id": "0ea1c467",
   "metadata": {},
   "outputs": [
    {
     "name": "stdout",
     "output_type": "stream",
     "text": [
      "12 1 5.30\n",
      "16 2 5.10\n",
      "VALOR A PAGAR: R$ 15.50\n"
     ]
    }
   ],
   "source": [
    "x = input().split(\" \")\n",
    "y= input().split(\" \")\n",
    "a,b,c = x\n",
    "d,e,f= y\n",
    "total = (int(b) * float(c)) + (int(e) * float(f))\n",
    "print(\"VALOR A PAGAR: R$ %0.2f\" %total)"
   ]
  },
  {
   "cell_type": "markdown",
   "id": "228e361a",
   "metadata": {},
   "source": [
    "##1011 Sphere"
   ]
  },
  {
   "cell_type": "code",
   "execution_count": null,
   "id": "a6cd6a4b",
   "metadata": {},
   "outputs": [],
   "source": [
    "n = int(input())\n",
    "total = (4/3.0*3.14159*n*n*n)\n",
    "print(\"VOLUME = %0.3f\"%total)"
   ]
  },
  {
   "cell_type": "markdown",
   "id": "2bcb7828",
   "metadata": {},
   "source": [
    "##1012 Area"
   ]
  },
  {
   "cell_type": "code",
   "execution_count": null,
   "id": "510eb1cd",
   "metadata": {},
   "outputs": [],
   "source": [
    "a,b,c = list(map(float,input().split()))\n",
    "triangle=0.5*a*c\n",
    "circle=3.14159*c*c\n",
    "trapezium=(a+b)/2.0*c\n",
    "square=b*b\n",
    "rectangle=a*b\n",
    "print(\"TRIANGULO: %.3lf\"%triangle)\n",
    "print(\"CIRCULO: %.3f\"%circle)\n",
    "print(\"TRAPEZIO: %.3f\"%trapezium)\n",
    "print(\"QUADRADO: %.3f\"%square)\n",
    "print(\"RETANGULO: %.3f\"%rectangle)"
   ]
  },
  {
   "cell_type": "markdown",
   "id": "5ab718f8",
   "metadata": {},
   "source": [
    "##1013 The Greatest"
   ]
  },
  {
   "cell_type": "code",
   "execution_count": 2,
   "id": "0eb1746f",
   "metadata": {},
   "outputs": [
    {
     "name": "stdout",
     "output_type": "stream",
     "text": [
      "217 14 6\n",
      "217 eh o maior\n"
     ]
    }
   ],
   "source": [
    "a,b,c=list(map(int,input().split()))\n",
    "print(\"{} eh o maior\".format(max(a,b,c)))"
   ]
  },
  {
   "cell_type": "markdown",
   "id": "fe62f64e",
   "metadata": {},
   "source": [
    "##1014 Consumption"
   ]
  },
  {
   "cell_type": "code",
   "execution_count": null,
   "id": "f9628f8c",
   "metadata": {},
   "outputs": [],
   "source": [
    "a=int(input())\n",
    "b=float(input())\n",
    "total=a/b\n",
    "print(\"%0.3f km/l\"%total)"
   ]
  },
  {
   "cell_type": "markdown",
   "id": "83445010",
   "metadata": {},
   "source": [
    "##1015 Distance Between Two Points "
   ]
  },
  {
   "cell_type": "code",
   "execution_count": null,
   "id": "fe82d8d5",
   "metadata": {},
   "outputs": [],
   "source": [
    "import math\n",
    "x1,y1=list(map(float,input().split()))\n",
    "x2,y2=list(map(float,input().split()))\n",
    "distance = math.sqrt(pow(x2-x1,2)+pow(y2-y1,2))\n",
    "print(\"%0.4f\"%distance)\n"
   ]
  },
  {
   "cell_type": "markdown",
   "id": "cd855a58",
   "metadata": {},
   "source": [
    "##1016 Distance"
   ]
  },
  {
   "cell_type": "code",
   "execution_count": null,
   "id": "01a6e8eb",
   "metadata": {},
   "outputs": [],
   "source": [
    "n=int(input())\n",
    "print(\"{} minutos\".format(n*2))"
   ]
  },
  {
   "cell_type": "markdown",
   "id": "f363d0cd",
   "metadata": {},
   "source": [
    "##1017 Fuel Spent"
   ]
  },
  {
   "cell_type": "code",
   "execution_count": null,
   "id": "0e38706f",
   "metadata": {},
   "outputs": [],
   "source": [
    "a=int(input())\n",
    "b=int(input())\n",
    "print(\"%0.3f\"%((a*b)/12.0))"
   ]
  },
  {
   "cell_type": "markdown",
   "id": "f53abb12",
   "metadata": {},
   "source": [
    "##1018 Banknotes"
   ]
  },
  {
   "cell_type": "code",
   "execution_count": null,
   "id": "b99a479e",
   "metadata": {},
   "outputs": [],
   "source": [
    "notes = int(input())\n",
    "print(notes)\n",
    "print(\"{} nota(s) de R$ 100,00\".format(int(notes/100)))\n",
    "aux = (notes%100)\n",
    "print(\"{} nota(s) de R$ 50,00\".format(int(aux/50)))\n",
    "aux = (aux%50)\n",
    "print(\"{} nota(s) de R$ 20,00\".format(int(aux/20)))\n",
    "aux = (aux%20)\n",
    "print(\"{} nota(s) de R$ 10,00\".format(int(aux/10)))\n",
    "aux = (aux%10)\n",
    "print(\"{} nota(s) de R$ 5,00\".format(int(aux/5)))\n",
    "aux = (aux%5)\n",
    "print(\"{} nota(s) de R$ 2,00\".format(int(aux/2)))\n",
    "aux = (aux%2)\n",
    "print(\"{} nota(s) de R$ 1,00\".format(int(aux/1)))"
   ]
  },
  {
   "cell_type": "markdown",
   "id": "20028d1f",
   "metadata": {},
   "source": [
    "##1019 Time Conversion"
   ]
  },
  {
   "cell_type": "code",
   "execution_count": null,
   "id": "dd8e8a80",
   "metadata": {},
   "outputs": [],
   "source": [
    "n = int(input())\n",
    "print(\"{}:{}:{}\".format(int(n/3600),int(n%3600/60),int(n%60)))"
   ]
  },
  {
   "cell_type": "markdown",
   "id": "848c057f",
   "metadata": {},
   "source": [
    "##1020 Age in Days"
   ]
  },
  {
   "cell_type": "code",
   "execution_count": null,
   "id": "e3b1c100",
   "metadata": {},
   "outputs": [],
   "source": [
    "n= int(input())\n",
    "a = n / 365\n",
    "rA = n % 365\n",
    "rM = rA % 30\n",
    "m = rA / 30\n",
    "d = rM % 30\n",
    "print(\"{} ano(s)\".format(int(a)))\n",
    "print(\"{} mes(es)\".format(int(m)))\n",
    "print(\"{} dia(s)\".format(int(d)))"
   ]
  },
  {
   "cell_type": "markdown",
   "id": "c83528b5",
   "metadata": {},
   "source": [
    "##1021  Banknotes and Coins"
   ]
  },
  {
   "cell_type": "code",
   "execution_count": null,
   "id": "14242dcf",
   "metadata": {},
   "outputs": [],
   "source": [
    "A=float(input())\n",
    "N=A\n",
    "a=N/100\n",
    "b=N%100\n",
    "c=b/50\n",
    "d=b%50\n",
    "e=d/20\n",
    "f=d%20\n",
    "g=f/10\n",
    "h=f%10\n",
    "i=h/5\n",
    "j=h%5\n",
    "k=j/2\n",
    "l=j%2\n",
    "\n",
    "E=A*100\n",
    "B=(int(E))\n",
    "m=B%100\n",
    "n=m/50\n",
    "o=m%50\n",
    "p=o/25\n",
    "q=o%25\n",
    "r=q/10\n",
    "s=q%10\n",
    "t=s/5\n",
    "u=s%5\n",
    "print(\"NOTAS:\")\n",
    "print(\"{} nota(s) de R$ 100.00\".format(int(a)))\n",
    "print(\"{} nota(s) de R$ 50.00\".format(int(c)))\n",
    "print(\"{} nota(s) de R$ 20.00\".format(int(e)))\n",
    "print(\"{} nota(s) de R$ 10.00\".format(int(g)))\n",
    "print(\"{} nota(s) de R$ 5.00\".format(int(i)))\n",
    "print(\"{} nota(s) de R$ 2.00\".format(int(k)))\n",
    "print(\"MOEDAS:\")\n",
    "print(\"{} moeda(s) de R$ 1.00\".format(int(l)))\n",
    "print(\"{} moeda(s) de R$ 0.50\".format(int(n)))\n",
    "print(\"{} moeda(s) de R$ 0.25\".format(int(p)))\n",
    "print(\"{} moeda(s) de R$ 0.10\".format(int(r)))\n",
    "print(\"{} moeda(s) de R$ 0.05\".format(int(t)))\n",
    "print(\"{} moeda(s) de R$ 0.01\".format(int(u)))"
   ]
  },
  {
   "cell_type": "markdown",
   "id": "9ee42221",
   "metadata": {},
   "source": [
    "##1035 Selection Test 1"
   ]
  },
  {
   "cell_type": "code",
   "execution_count": null,
   "id": "ff6de7ef",
   "metadata": {},
   "outputs": [],
   "source": [
    "A,B,C,D=list(map(int,input().split()))\n",
    "if(B>C and D>A and C+D>A+B and C>=0 and D>=0 and A%2==0):\n",
    "    print(\"Valores aceitos\")\n",
    "else:\n",
    "    print(\"Valores nao aceitos\")"
   ]
  },
  {
   "cell_type": "markdown",
   "id": "029a883e",
   "metadata": {},
   "source": [
    "##1036 Bhaskara's Formula"
   ]
  },
  {
   "cell_type": "code",
   "execution_count": null,
   "id": "decef41e",
   "metadata": {},
   "outputs": [],
   "source": [
    "A,B,C = list(map(float,input().split()))\n",
    "d = B * B - 4 * A * C\n",
    "e = pow(d, .5)\n",
    "if (d < 0 or A == 0):\n",
    "    print(\"Impossivel calcular\")\n",
    "else:\n",
    "    f = (-B + e) / (2 * A)\n",
    "    g = (-B - e) / (2 * A)\n",
    "    print(\"R1 = %.5lf\"%f)\n",
    "    print(\"R2 = %.5lf\"%g)"
   ]
  },
  {
   "cell_type": "markdown",
   "id": "527606d9",
   "metadata": {},
   "source": [
    "##1037 Interval"
   ]
  },
  {
   "cell_type": "code",
   "execution_count": null,
   "id": "b410032c",
   "metadata": {},
   "outputs": [],
   "source": [
    "a = float(input())\n",
    "if(a<0 or a>100):\n",
    "     print(\"Fora de intervalo\")\n",
    "elif(a>=0 and a<=25):\n",
    "     print(\"Intervalo [0,25]\")\n",
    "elif(a>25 and a<=50):\n",
    "     print(\"Intervalo (25,50]\")\n",
    "elif (a>50 and a<=75):\n",
    "     print(\"Intervalo (50,75]\")\n",
    "elif (a>75 and a<=100):\n",
    "     print(\"Intervalo (75,100]\")"
   ]
  }
 ],
 "metadata": {
  "kernelspec": {
   "display_name": "Python 3",
   "language": "python",
   "name": "python3"
  },
  "language_info": {
   "codemirror_mode": {
    "name": "ipython",
    "version": 3
   },
   "file_extension": ".py",
   "mimetype": "text/x-python",
   "name": "python",
   "nbconvert_exporter": "python",
   "pygments_lexer": "ipython3",
   "version": "3.8.8"
  }
 },
 "nbformat": 4,
 "nbformat_minor": 5
}
