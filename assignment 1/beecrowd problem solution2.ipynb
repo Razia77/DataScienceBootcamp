{
 "cells": [
  {
   "cell_type": "markdown",
   "id": "1596dbd1",
   "metadata": {},
   "source": [
    "##1038 Snack"
   ]
  },
  {
   "cell_type": "code",
   "execution_count": null,
   "id": "657d1f31",
   "metadata": {},
   "outputs": [],
   "source": [
    "X,Y=list(map(int,input().split()))\n",
    "if(X == 1):\n",
    "    price  = (float) (4.00 * Y)\n",
    "elif(X == 2):\n",
    "    price  = (float) (4.50 * Y)\n",
    "elif(X == 3):\n",
    "    price  = (float) (5.00 * Y)\n",
    "elif (X == 4):\n",
    "    price  = (float) (2.00 * Y);\n",
    "elif (X == 5):\n",
    "    price  = (float) (1.50 * Y)\n",
    "print(\"Total: R$ %.2f\"%price)"
   ]
  },
  {
   "cell_type": "markdown",
   "id": "df6bf06d",
   "metadata": {},
   "source": [
    "##1040 Average 3"
   ]
  },
  {
   "cell_type": "code",
   "execution_count": null,
   "id": "5aae9058",
   "metadata": {},
   "outputs": [],
   "source": [
    "n1,n2,n3,n4=list(map(float,input().split()))\n",
    "a=(((n1*2)+(n2*3)+(n3*4)+(n4*1))/10);\n",
    "print(\"Media: %.1lf\"%a)\n",
    "if(a>=7.0):\n",
    "    print(\"Aluno aprovado.\")\n",
    "elif(a<5.0):\n",
    "    print(\"Aluno reprovado.\")\n",
    "elif(a>=5.0 and a<=6.9):\n",
    "    print(\"Aluno em exame.\")\n",
    "    n5=float(input())\n",
    "    print(\"Nota do exame: %.1lf\"%n5)\n",
    "    b=(a+n5)/2\n",
    "    if(b>=5.0):\n",
    "            print(\"Aluno aprovado.\")\n",
    "    if (b<=4.9):\n",
    "            print(\"Aluno reprovado.\")\n",
    "    print(\"Media final: %.1lf\"%b)"
   ]
  },
  {
   "cell_type": "markdown",
   "id": "4f09180c",
   "metadata": {},
   "source": [
    "##1041 Coordinates of a Point"
   ]
  },
  {
   "cell_type": "code",
   "execution_count": null,
   "id": "d599b306",
   "metadata": {},
   "outputs": [],
   "source": [
    "X,Y=list(map(float,input().split()))\n",
    "if(X==0 and Y==0):\n",
    "    print(\"Origem\")\n",
    "elif(X==0):\n",
    "    print(\"Eixo Y\")\n",
    "elif(Y==0):\n",
    "    print(\"Eixo X\")\n",
    "elif(X>0 and Y>0):\n",
    "    print(\"Q1\")\n",
    "elif(X<0 and Y>0):\n",
    "    print(\"Q2\")\n",
    "elif(X<0 and Y<0):\n",
    "    print(\"Q3\")\n",
    "elif(X>0 and Y<0):\n",
    "    print(\"Q4\")"
   ]
  },
  {
   "cell_type": "markdown",
   "id": "de8ef6e3",
   "metadata": {},
   "source": [
    "##1042 Simple Sort"
   ]
  },
  {
   "cell_type": "code",
   "execution_count": null,
   "id": "2008e782",
   "metadata": {},
   "outputs": [],
   "source": [
    "x,y,z=list(map(int,input().split()))\n",
    "lista = [x,y,z]\n",
    "lista.sort()\n",
    "print(lista[0])\n",
    "print(lista[1])\n",
    "print(lista[2])\n",
    "print(\"\")\n",
    "print(x)\n",
    "print(y)\n",
    "print(z)"
   ]
  },
  {
   "cell_type": "markdown",
   "id": "d8ead5de",
   "metadata": {},
   "source": [
    "##1043 Triangle"
   ]
  },
  {
   "cell_type": "code",
   "execution_count": null,
   "id": "5bed2731",
   "metadata": {},
   "outputs": [],
   "source": [
    "a,b,c=list(map(float,input().split()))\n",
    "if(a<b+c and b < a + c and c < a + b):\n",
    "     print(\"Perimetro = %0.1f\"%(a + b + c))\n",
    "else:\n",
    "     print(\"Area = %0.1f\"%((c * (a + b)) / 2))"
   ]
  },
  {
   "cell_type": "markdown",
   "id": "2dd26932",
   "metadata": {},
   "source": [
    "##1044 Multiples"
   ]
  },
  {
   "cell_type": "code",
   "execution_count": null,
   "id": "b1fb076e",
   "metadata": {},
   "outputs": [],
   "source": [
    "a,b=list(map(int,input().split()))\n",
    "if(b%a==0 or a%b==0):\n",
    "    print(\"Sao Multiplos\")\n",
    "else:\n",
    "    print(\"Nao sao Multiplos\")"
   ]
  },
  {
   "cell_type": "markdown",
   "id": "e659b6f7",
   "metadata": {},
   "source": [
    "##1045 Triangle Types"
   ]
  },
  {
   "cell_type": "code",
   "execution_count": null,
   "id": "ed66a669",
   "metadata": {},
   "outputs": [],
   "source": [
    "a,b,c=list(map(float,input().split()))\n",
    "if(a < b):\n",
    "    temp = a\n",
    "    a = b\n",
    "    b = temp\n",
    "if(b < c):\n",
    "    temp = b\n",
    "    b = c\n",
    "    c = temp\n",
    "if(a < b):\n",
    "    temp = a\n",
    "    a = b\n",
    "    b = temp\n",
    "if(a>=(b+c)):\n",
    "    print(\"NAO FORMA TRIANGULO\")\n",
    "elif(a*a == (b*b+c*c)):\n",
    "     print(\"TRIANGULO RETANGULO\")\n",
    "elif(a * a > (b*b+ c*c)):\n",
    "    print(\"TRIANGULO OBTUSANGULO\")\n",
    "elif(a*a<(b*b + c*c)):\n",
    "    print(\"TRIANGULO ACUTANGULO\")\n",
    "if(a == b and b == c):\n",
    "        print(\"TRIANGULO EQUILATERO\")\n",
    "elif(a == b or b == c):\n",
    "        print(\"TRIANGULO ISOSCELES\")"
   ]
  },
  {
   "cell_type": "markdown",
   "id": "d0aeac32",
   "metadata": {},
   "source": [
    "##1046 Game Time"
   ]
  },
  {
   "cell_type": "code",
   "execution_count": null,
   "id": "5f3f0b17",
   "metadata": {},
   "outputs": [],
   "source": [
    "a,b=list(map(int,input().split()))\n",
    "if(a<b):\n",
    "    time=b-a\n",
    "else:\n",
    "    time=b+24-a\n",
    "print(\"O JOGO DUROU {} HORA(S)\".format(time))"
   ]
  },
  {
   "cell_type": "markdown",
   "id": "5b1d442d",
   "metadata": {},
   "source": [
    "##1047 \tGame Time with Minutes"
   ]
  },
  {
   "cell_type": "code",
   "execution_count": null,
   "id": "e43e7b2b",
   "metadata": {},
   "outputs": [],
   "source": [
    "s_h, s_m, e_h, e_m = list(map(int, input().split()))\n",
    "if e_h > s_h or (e_h == s_h and e_m > s_m):\n",
    "\n",
    "    h_diff = e_h - s_h\n",
    "else:\n",
    "    h_diff = (e_h - s_h) + 24\n",
    "    \n",
    "if e_m < s_m:\n",
    "    h_diff -= 1\n",
    "    m_diff = (e_m - s_m) + 60\n",
    "else:\n",
    "    m_diff = e_m - s_m\n",
    "\n",
    "print('O JOGO DUROU ',h_diff,' HORA(S) E ', m_diff,' MINUTO(S)', sep='',end='\\n')\n"
   ]
  },
  {
   "cell_type": "markdown",
   "id": "cc80ac29",
   "metadata": {},
   "source": [
    "##1048 Salary Increase"
   ]
  },
  {
   "cell_type": "code",
   "execution_count": null,
   "id": "b77dad84",
   "metadata": {},
   "outputs": [],
   "source": [
    "a = float(input())\n",
    "if(a>=0 and a<=400):\n",
    "\tb= a*0.15\n",
    "\tc=a+b\n",
    "\td=15\n",
    "elif(a>=400.01 and a<=800.00):\n",
    "\tb=a*0.12\n",
    "\tc=a+b\n",
    "\td=12\n",
    "elif(a>=800.01 and a<=1200.00):\n",
    "    b=a*0.1\n",
    "    c=a+b\n",
    "    d=10\n",
    "elif(a>=1200.01 and a<=2000.00):\n",
    "\tb=a*0.07\n",
    "\tc=a+b\n",
    "\td=7\n",
    "elif(a>2000):\n",
    "\tb=a*0.04\n",
    "\tc=a+b\n",
    "\td=4\n",
    "print(\"Novo salario: %.2f\"%c)\n",
    "print(\"Reajuste ganho: %.2f\"%b)\n",
    "print(\"Em percentual: {} {}\".format(d,\"%\"))"
   ]
  },
  {
   "cell_type": "markdown",
   "id": "0213044b",
   "metadata": {},
   "source": [
    "##1049"
   ]
  },
  {
   "cell_type": "code",
   "execution_count": null,
   "id": "51cd60fd",
   "metadata": {},
   "outputs": [],
   "source": [
    "a=str(input())\n",
    "b=str(input())\n",
    "c=str(input())\n",
    "if a == \"vertebrado\":\n",
    "\tif b==\"ave\":\n",
    "\t\tif c==\"carnivoro\":\n",
    "\t\t\tprint(\"aguia\")\n",
    "\t\telse:\n",
    "\t\t\tprint(\"pomba\")\n",
    "\telif b==\"mamifero\":\n",
    "\t\tif c == \"onivoro\":\n",
    "\t\t\tprint(\"homem\")\n",
    "\t\telse:\n",
    "\t\t\tprint(\"vaca\")\n",
    "elif a ==\"invertebrado\":\n",
    "\tif b==\"inseto\":\n",
    "\t\tif c==\"hematofago\":\n",
    "\t\t\tprint(\"pulga\")\n",
    "\t\telse:\n",
    "\t\t\tprint(\"lagarta\")\n",
    "\telif b==\"anelideo\":\n",
    "\t\tif c == \"hematofago\":\n",
    "\t\t\tprint(\"sanguessuga\")\n",
    "\t\telse:\n",
    "\t\t\tprint(\"minhoca\")"
   ]
  },
  {
   "cell_type": "markdown",
   "id": "153030e9",
   "metadata": {},
   "source": [
    "##1050"
   ]
  },
  {
   "cell_type": "code",
   "execution_count": null,
   "id": "f55425df",
   "metadata": {},
   "outputs": [],
   "source": [
    "n=int(input())\n",
    "if(n == 61):\n",
    "    print(\"Brasilia\")\n",
    "elif (n == 71):\n",
    "    print(\"Salvador\")\n",
    "elif(n == 11):\n",
    "    print(\"Sao Paulo\")\n",
    "elif(n == 21):\n",
    "    print(\"Rio de Janeiro\")\n",
    "elif(n == 32):\n",
    "    print(\"Juiz de Fora\")\n",
    "elif(n == 19):\n",
    "    print(\"Campinas\")\n",
    "elif(n == 27):\n",
    "    print(\"Vitoria\")\n",
    "elif(n == 31):\n",
    "    print(\"Belo Horizonte\")\n",
    "else:\n",
    "    print(\"DDD nao cadastrado\")"
   ]
  },
  {
   "cell_type": "markdown",
   "id": "c2998a9a",
   "metadata": {},
   "source": [
    "##1051 taxes"
   ]
  },
  {
   "cell_type": "code",
   "execution_count": null,
   "id": "7fbeeec9",
   "metadata": {},
   "outputs": [],
   "source": [
    "a=float(input())\n",
    "if(a>=0 and a<=2000):\n",
    "    print(\"Isento\")\n",
    "elif(a>=2000.01 and a<=3000):\n",
    "    a=a-2000\n",
    "    b= a*.08\n",
    "    print(\"R$ %.2f\"%b)\n",
    "elif(a>=3000.01 and a<=4500):\n",
    "    a=a-3000\n",
    "    b= a*.18+80\n",
    "    print(\"R$ %.2f\"%b)\n",
    "else:\n",
    "   a=a-4500\n",
    "   b= a*.28+350\n",
    "   print(\"R$ %.2f\"%b)"
   ]
  },
  {
   "cell_type": "markdown",
   "id": "388352ed",
   "metadata": {},
   "source": [
    "##1052 month"
   ]
  },
  {
   "cell_type": "code",
   "execution_count": null,
   "id": "a838b88c",
   "metadata": {},
   "outputs": [],
   "source": [
    "x=int(input())\n",
    "if(x==1):\n",
    "    print(\"January\")\n",
    "elif(x==2):\n",
    "    print(\"February\")\n",
    "elif(x==3):\n",
    "    print(\"March\")\n",
    "elif(x==4):\n",
    "    print(\"April\")\n",
    "elif(x==5):\n",
    "    print(\"May\")\n",
    "elif(x==6):\n",
    "    print(\"June\")\n",
    "elif(x==7):\n",
    "    print(\"July\")\n",
    "elif(x==8):\n",
    "    print(\"August\")\n",
    "elif(x==9):\n",
    "    print(\"September\")\n",
    "elif(x==10):\n",
    "    print(\"October\")\n",
    "elif(x==11):\n",
    "    print(\"November\")\n",
    "elif(x==12):\n",
    "    print(\"December\")"
   ]
  },
  {
   "cell_type": "markdown",
   "id": "22197e7a",
   "metadata": {},
   "source": [
    "##1059 even numbers "
   ]
  },
  {
   "cell_type": "code",
   "execution_count": null,
   "id": "f8aaef1e",
   "metadata": {},
   "outputs": [],
   "source": [
    "for i in range(2,100+1):\n",
    "    if(i%2==0):\n",
    "        print(i)"
   ]
  },
  {
   "cell_type": "markdown",
   "id": "70e22e95",
   "metadata": {},
   "source": [
    "##1060 positive number"
   ]
  },
  {
   "cell_type": "code",
   "execution_count": null,
   "id": "2f69126d",
   "metadata": {},
   "outputs": [],
   "source": [
    "count=0\n",
    "for i in range(1,7):\n",
    "    n = float(input())\n",
    "    if(n>0):\n",
    "        count=count+1\n",
    "print(\"{} valores positivos\".format(count))"
   ]
  },
  {
   "cell_type": "markdown",
   "id": "e2f5985b",
   "metadata": {},
   "source": [
    "##1061 event time"
   ]
  },
  {
   "cell_type": "code",
   "execution_count": null,
   "id": "a64c023e",
   "metadata": {},
   "outputs": [],
   "source": [
    "dia,date1=input().split()\n",
    "date1 = int(date1)\n",
    "h1,m1,s1=input().split(\":\")\n",
    "h1 = int(h1)\n",
    "m1 = int(m1)\n",
    "s1 = int(s1)\n",
    "dia,date2=input().split()\n",
    "date2 = int(date2)\n",
    "h2,m2,s2=input().split(\":\")\n",
    "h2 = int(h2)\n",
    "m2 = int(m2)\n",
    "s2 = int(s2)\n",
    "\n",
    "count_passed_second = (h1*60*60)+(m1*60)+s1\n",
    "count_remain_second1 = (86400-count_passed_second)\n",
    "count_remain_second2 = (h2*60*60)+(m2*60)+s2\n",
    "date = (date2-1)-date1\n",
    "count_date_second = date*86400\n",
    "total_second = count_remain_second1+count_remain_second2+count_date_second\n",
    "\n",
    "\n",
    "D = total_second/86400\n",
    "total_second = total_second%86400\n",
    "H = total_second/3600\n",
    "total_second = total_second%3600\n",
    "M = total_second/60\n",
    "total_second = total_second%60\n",
    "S = total_second\n",
    "print(\"%i dia(s)\"%D)\n",
    "print(\"%i hora(s)\"%H)\n",
    "print(\"%i minuto(s)\"%M)\n",
    "print(\"%i segundo(s)\"%S)"
   ]
  },
  {
   "cell_type": "markdown",
   "id": "9d26fc12",
   "metadata": {},
   "source": [
    "#1064 positive average "
   ]
  },
  {
   "cell_type": "code",
   "execution_count": null,
   "id": "e856bb20",
   "metadata": {},
   "outputs": [],
   "source": [
    "count=0\n",
    "sum=0.0\n",
    "for i in range(1,7):\n",
    "    n = float(input())\n",
    "    if(n>0):\n",
    "        sum = sum + n\n",
    "        count=count+1\n",
    "print(\"{} valores positivos\".format(count))\n",
    "print(\"%0.1f\"%(sum/count))"
   ]
  },
  {
   "cell_type": "markdown",
   "id": "822e902d",
   "metadata": {},
   "source": [
    "##1065"
   ]
  },
  {
   "cell_type": "code",
   "execution_count": null,
   "id": "b6e1a769",
   "metadata": {},
   "outputs": [],
   "source": [
    "count=0\n",
    "for i in range(5):\n",
    "    n = float(input())\n",
    "    if(n%2==0):\n",
    "        count=count+1\n",
    "print(\"{} valores pares\".format(count))"
   ]
  },
  {
   "cell_type": "markdown",
   "id": "25a66f50",
   "metadata": {},
   "source": [
    "#1066 Even, Odd, Positive and Negative"
   ]
  },
  {
   "cell_type": "code",
   "execution_count": null,
   "id": "e8a2acb4",
   "metadata": {},
   "outputs": [],
   "source": [
    "even=0\n",
    "odd=0\n",
    "positive=0\n",
    "negative=0\n",
    "for i in range(5):\n",
    "    n = float(input())\n",
    "    if(n % 2 == 0):\n",
    "         even = even+1\n",
    "    else:\n",
    "        odd =odd+1\n",
    "    if (n > 0):\n",
    "        positive =positive+1\n",
    "    elif (n < 0):\n",
    "        negative =negative+1\n",
    "print(\"{} valor(es) par(es)\".format(even))\n",
    "print(\"{} valor(es) impar(es)\".format(odd))\n",
    "print(\"{} valor(es) positivo(s)\".format(positive))\n",
    "print(\"{} valor(es) negativo(s)\".format(negative))"
   ]
  },
  {
   "cell_type": "markdown",
   "id": "590e905a",
   "metadata": {},
   "source": [
    "##1067 odd"
   ]
  },
  {
   "cell_type": "code",
   "execution_count": null,
   "id": "b8443922",
   "metadata": {},
   "outputs": [],
   "source": [
    "n = int(input())\n",
    "for i in range(n+1):\n",
    "    if(i%2==1):\n",
    "        print(i)"
   ]
  },
  {
   "cell_type": "markdown",
   "id": "1b52a63f",
   "metadata": {},
   "source": [
    "##1070 Six Odd Numbers"
   ]
  },
  {
   "cell_type": "code",
   "execution_count": null,
   "id": "339a30db",
   "metadata": {},
   "outputs": [],
   "source": [
    "n=int(input())\n",
    "i=0\n",
    "while(i<6):\n",
    "    if(n%2!=0):\n",
    "        print(n)\n",
    "        i=i+1\n",
    "    n=n+1"
   ]
  },
  {
   "cell_type": "markdown",
   "id": "cd36d8ad",
   "metadata": {},
   "source": [
    "##1071 constructive odd numbers"
   ]
  },
  {
   "cell_type": "code",
   "execution_count": null,
   "id": "c11e837f",
   "metadata": {},
   "outputs": [],
   "source": [
    "def main():\n",
    "    X = int(input())\n",
    "    Y = int(input())\n",
    "    start = min(X,Y)+1\n",
    "    end = max(X,Y)\n",
    "    if start % 2 == 0:\n",
    "        start += 1\n",
    "\n",
    "    sum = 0\n",
    "    for i in range(start, end, 2):\n",
    "        sum += i\n",
    "    print(sum)\n",
    "if __name__ == '__main__':\n",
    "    main()"
   ]
  },
  {
   "cell_type": "markdown",
   "id": "8a698266",
   "metadata": {},
   "source": [
    "1072 Interval 2"
   ]
  },
  {
   "cell_type": "code",
   "execution_count": null,
   "id": "8b2472d8",
   "metadata": {},
   "outputs": [],
   "source": [
    "X=int(input())\n",
    "inn=0\n",
    "out=0\n",
    "for i in range(0,X):\n",
    "    N=int(input())\n",
    "    if(10<=N<=20):\n",
    "        inn+=1\n",
    "    else:\n",
    "        out+=1\n",
    "print(\"%i in\"%inn)\n",
    "print(\"%i out\"%out)"
   ]
  },
  {
   "cell_type": "markdown",
   "id": "d938903a",
   "metadata": {},
   "source": [
    "##1073 - Even Square"
   ]
  },
  {
   "cell_type": "code",
   "execution_count": null,
   "id": "b35a58ed",
   "metadata": {},
   "outputs": [],
   "source": [
    "n= int(input())\n",
    "for i in range(1,n+1):\n",
    "    if(i%2==0):\n",
    "        print(\"{}^{} = {}\".format(i,2,pow(i,2)))"
   ]
  }
 ],
 "metadata": {
  "kernelspec": {
   "display_name": "Python 3",
   "language": "python",
   "name": "python3"
  },
  "language_info": {
   "codemirror_mode": {
    "name": "ipython",
    "version": 3
   },
   "file_extension": ".py",
   "mimetype": "text/x-python",
   "name": "python",
   "nbconvert_exporter": "python",
   "pygments_lexer": "ipython3",
   "version": "3.8.8"
  }
 },
 "nbformat": 4,
 "nbformat_minor": 5
}
